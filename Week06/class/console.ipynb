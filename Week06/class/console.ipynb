{
 "cells": [
  {
   "cell_type": "code",
   "execution_count": null,
   "metadata": {},
   "outputs": [],
   "source": [
    "import paramiko\n",
    "from getpass import getpass\n",
    "\n",
    "# Create the password prompt\n",
    "thePass = getpass(prompt=\"Please enter your SSH password:\")\n",
    "\n",
    "# Host information\n",
    "host = \"192.168.6.71\"\n",
    "port = 22\n",
    "username = \"administrator\"\n",
    "password = thePass\n",
    "\n",
    "try:\n",
    "    ssh = paramiko.SSHClient()\n",
    "    ssh.set_missing_host_key_policy(paramiko.AutoAddPolicy())\n",
    "    ssh.connect(host, port, username, password)\n",
    "\n",
    "except paramiko.AuthenticationEsception:\n",
    "    print(\"Authentication failed.\")"
   ]
  },
  {
   "cell_type": "code",
   "execution_count": null,
   "metadata": {},
   "outputs": [],
   "source": [
    "# Run a command\n",
    "command = \"ps -ef\"\n",
    "\n",
    "# Get the output from the command\n",
    "stdin, stdout, stderr = ssh.exec_command(command)\n",
    "\n",
    "# Get results from a stdout\n",
    "lines = stdout.readlines()\n",
    "\n",
    "# Convert the list to a string\n",
    "output = ''.join(lines)\n",
    "\n",
    "# Header output\n",
    "sepHeader = '' + '### BEGIN' + command + ' ###\\n\\n'\n",
    "\n",
    "# Footer\n",
    "sepFooter = '' + '### END' + command + ' ###\\n\\n'\n",
    "\n",
    "#Concatenate the header, output, and footer\n",
    "cmd_output = sepHeader + output + sepFooter\n",
    "\n",
    "# Save the cmd_output to a file\n",
    "with open('sshae_results.txt', 'w') as f\n",
    "    f.write(cmd_output)"
   ]
  }
 ],
 "metadata": {
  "interpreter": {
   "hash": "2171bc6b00ba1d2ce2dc1800dd7211e2c1c28477b82eb67c1108ac13b267c2a7"
  },
  "kernelspec": {
   "display_name": "Python 3.10.2 64-bit",
   "language": "python",
   "name": "python3"
  },
  "language_info": {
   "name": "python",
   "version": "3.10.2"
  },
  "orig_nbformat": 4
 },
 "nbformat": 4,
 "nbformat_minor": 2
}
