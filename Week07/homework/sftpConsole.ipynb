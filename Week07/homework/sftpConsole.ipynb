{
 "cells": [
  {
   "cell_type": "code",
   "execution_count": 36,
   "metadata": {},
   "outputs": [],
   "source": [
    "import paramiko, os\n",
    "from getpass import getpass\n",
    "\n",
    "# Create the password prompt\n",
    "thePass = getpass(prompt=\"Please enter your SSH password: \")\n",
    "\n",
    "# Host information\n",
    "host = \"192.168.6.71\"\n",
    "port = 2222\n",
    "username = \"michael.pinelli\"\n",
    "password = thePass\n",
    "\n",
    "try:\n",
    "    ssh = paramiko.SSHClient()\n",
    "    ssh.set_missing_host_key_policy(paramiko.AutoAddPolicy())\n",
    "    ssh.connect(host, port, username, password)\n",
    "\n",
    "except paramiko.AuthenticationEsception:\n",
    "    print(\"Authentication failed.\")"
   ]
  },
  {
   "cell_type": "code",
   "execution_count": 37,
   "metadata": {},
   "outputs": [],
   "source": [
    "# Start SFTP session\n",
    "sftp = ssh.open_sftp()\n",
    "\n",
    "# List of files to download\n",
    "files = ['/home/p.dalton/aqwerpuqwerj', '/home/p.dalton/d.pid']\n",
    "\n",
    "# Loop through the files and download them\n",
    "for eachFile in files:\n",
    "    # Create a list from the filename\n",
    "    x = eachFile.split(\"/\")\n",
    "    \n",
    "    # -1 is used to pluck the last element in a list\n",
    "    filename = x[-1]\n",
    "    \n",
    "    # Local Path to store files\n",
    "    local_path = \"remote_files/\" + filename\n",
    "    \n",
    "    sftp.get(eachFile, local_path)\n",
    "\n",
    "ssh.close()"
   ]
  },
  {
   "cell_type": "code",
   "execution_count": 24,
   "metadata": {},
   "outputs": [],
   "source": [
    "# Start SFTP session\n",
    "sftp = ssh.open_sftp()\n",
    "\n",
    "# File to upload\n",
    "file = 'D:\\Downloads\\kraken'\n",
    "\n",
    "# Path to store files\n",
    "local_path = \"/home/michael.pinelli/kraken\"\n",
    "    \n",
    "sftp.put(file, local_path)\n",
    "\n",
    "ssh.close()"
   ]
  }
 ],
 "metadata": {
  "interpreter": {
   "hash": "2171bc6b00ba1d2ce2dc1800dd7211e2c1c28477b82eb67c1108ac13b267c2a7"
  },
  "kernelspec": {
   "display_name": "Python 3.10.2 64-bit",
   "language": "python",
   "name": "python3"
  },
  "language_info": {
   "codemirror_mode": {
    "name": "ipython",
    "version": 3
   },
   "file_extension": ".py",
   "mimetype": "text/x-python",
   "name": "python",
   "nbconvert_exporter": "python",
   "pygments_lexer": "ipython3",
   "version": "3.10.2"
  },
  "orig_nbformat": 4
 },
 "nbformat": 4,
 "nbformat_minor": 2
}
