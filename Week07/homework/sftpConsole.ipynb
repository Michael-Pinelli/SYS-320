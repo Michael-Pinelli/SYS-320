{
 "cells": [
  {
   "cell_type": "code",
   "execution_count": null,
   "metadata": {},
   "outputs": [],
   "source": [
    "import paramiko, os\n",
    "from getpass import getpass\n",
    "\n",
    "# Create the password prompt\n",
    "thePass = getpass(prompt=\"Please enter your SSH password: \")\n",
    "\n",
    "# Host information\n",
    "host = \"192.168.6.71\"\n",
    "port = 2222\n",
    "username = \"michael.pinelli\"\n",
    "password = thePass\n",
    "\n",
    "try:\n",
    "    ssh = paramiko.SSHClient()\n",
    "    ssh.set_missing_host_key_policy(paramiko.AutoAddPolicy())\n",
    "    ssh.connect(host, port, username, password)\n",
    "\n",
    "except paramiko.AuthenticationEsception:\n",
    "    print(\"Authentication failed.\")"
   ]
  },
  {
   "cell_type": "code",
   "execution_count": null,
   "metadata": {},
   "outputs": [],
   "source": [
    "# Start SFTP session\n",
    "sftp = ssh.open_sftp()\n",
    "\n",
    "# List of files to download\n",
    "files = ['/etc/hosts','/etc/passwd','/var/log/auth.log']\n",
    "\n",
    "# Loop through the files and download them\n",
    "for eachFile in files:\n",
    "    \n",
    "    if os.path.exists(eachFile):\n",
    "        decider = input(\"The following file already exists: \" + eachFile + \"Would you like to delete it?\")\n",
    "        if decider == 'yes':\n",
    "            os.remove(eachFile)\n",
    "            # Create a list from the filename\n",
    "            x = eachFile.split(\"/\")\n",
    "            \n",
    "            # -1 is used to pluck the last element in a list\n",
    "            filename = x[-1]\n",
    "            \n",
    "            # Local Path to store files\n",
    "            local_path = \"remote_files/\" + filename\n",
    "            \n",
    "            sftp.get(eachFile, local_path)\n",
    "        \n",
    "        elif decider == 'no':\n",
    "            break\n",
    "        else:\n",
    "            print(\"Please enter yes or no!\")\n",
    "        \n",
    "    # Create a list from the filename\n",
    "    x = eachFile.split(\"/\")\n",
    "    \n",
    "    # -1 is used to pluck the last element in a list\n",
    "    filename = x[-1]\n",
    "    \n",
    "    # Local Path to store files\n",
    "    local_path = \"remote_files/\" + filename\n",
    "    \n",
    "    sftp.get(eachFile, local_path)\n",
    "\n",
    "ssh.close()"
   ]
  }
 ],
 "metadata": {
  "language_info": {
   "name": "python"
  },
  "orig_nbformat": 4
 },
 "nbformat": 4,
 "nbformat_minor": 2
}
