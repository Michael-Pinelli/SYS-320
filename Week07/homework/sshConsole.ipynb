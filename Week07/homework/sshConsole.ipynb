{
 "cells": [
  {
   "cell_type": "code",
   "execution_count": 2,
   "metadata": {},
   "outputs": [],
   "source": [
    "import paramiko\n",
    "from getpass import getpass\n",
    "\n",
    "# Create the password prompt\n",
    "thePass = getpass(prompt=\"Please enter your SSH password: \")\n",
    "\n",
    "# Host information\n",
    "host = \"192.168.6.71\"\n",
    "port = 2222\n",
    "username = \"michael.pinelli\"\n",
    "password = thePass\n",
    "\n",
    "try:\n",
    "    ssh = paramiko.SSHClient()\n",
    "    ssh.set_missing_host_key_policy(paramiko.AutoAddPolicy())\n",
    "    ssh.connect(host, port, username, password)\n",
    "\n",
    "except paramiko.AuthenticationEsception:\n",
    "    print(\"Authentication failed.\")"
   ]
  },
  {
   "cell_type": "code",
   "execution_count": 6,
   "metadata": {},
   "outputs": [],
   "source": [
    "command = ['sudo -S lsof -p 148658',\n",
    "           'sudo -S ps -aux',\n",
    "           'sudo -S cat /etc/passwd',\n",
    "           'sudo -S cat /var/log/auth.log']\n",
    "# Run a command\n",
    "#command = ['ps -ef', 'netstat -an --inet', 'last -adx', 'cut -d: -f1 /etc/passwd']\n",
    "#command = input(\"Which set of commands would you like to run? \")\n",
    "for eachCMD in command:\n",
    "    # Get the output from the command\n",
    "    stdin, stdout, stderr = ssh.exec_command(eachCMD)\n",
    "    \n",
    "    stdin.write(thePass + \"\\n\")\n",
    "\n",
    "    # Get results from a stdout\n",
    "    lines = stdout.readlines()\n",
    "\n",
    "    # Convert the list to a string\n",
    "    output = ''.join(lines)\n",
    "\n",
    "    # Header output\n",
    "    sepHeader = '' + '### BEGIN' + eachCMD + ' ###\\n\\n'\n",
    "\n",
    "    # Footer\n",
    "    sepFooter = '' + '### END' + eachCMD + ' ###\\n\\n'\n",
    "\n",
    "    #Concatenate the header, output, and footer\n",
    "    cmd_output = sepHeader + output + sepFooter\n",
    "\n",
    "    # Save the cmd_output to a file\n",
    "    with open('ssh_results.txt', 'a') as f:\n",
    "        f.write(cmd_output)"
   ]
  },
  {
   "cell_type": "code",
   "execution_count": null,
   "metadata": {},
   "outputs": [],
   "source": [
    "command = input(\"Which set of commands would you like to run? \")\n",
    "\n",
    "# Get the output from the command\n",
    "stdin, stdout, stderr = ssh.exec_command(command)\n",
    "    \n",
    "stdin.write(thePass + \"\\n\")\n",
    "\n",
    "# Get results from a stdout\n",
    "lines = stdout.readlines()\n",
    "\n",
    "# Convert the list to a string\n",
    "output = ''.join(lines)\n",
    "\n",
    "# Header output\n",
    "sepHeader = '' + '### BEGIN' + command + ' ###\\n\\n'\n",
    "\n",
    "# Footer\n",
    "sepFooter = '' + '### END' + command + ' ###\\n\\n'\n",
    "\n",
    "#Concatenate the header, output, and footer\n",
    "cmd_output = sepHeader + output + sepFooter\n",
    "\n",
    "# Save the cmd_output to a file\n",
    "with open('ssh_results.txt', 'w') as f:\n",
    "    f.write(cmd_output)"
   ]
  }
 ],
 "metadata": {
  "interpreter": {
   "hash": "2171bc6b00ba1d2ce2dc1800dd7211e2c1c28477b82eb67c1108ac13b267c2a7"
  },
  "kernelspec": {
   "display_name": "Python 3.10.2 64-bit",
   "language": "python",
   "name": "python3"
  },
  "language_info": {
   "codemirror_mode": {
    "name": "ipython",
    "version": 3
   },
   "file_extension": ".py",
   "mimetype": "text/x-python",
   "name": "python",
   "nbconvert_exporter": "python",
   "pygments_lexer": "ipython3",
   "version": "3.10.2"
  },
  "orig_nbformat": 4
 },
 "nbformat": 4,
 "nbformat_minor": 2
}
