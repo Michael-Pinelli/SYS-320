{
 "cells": [
  {
   "cell_type": "code",
   "execution_count": 291,
   "metadata": {},
   "outputs": [
    {
     "data": {
      "text/plain": [
       "<module 'apacheLog' from 'c:\\\\Users\\\\mikep\\\\Documents\\\\SYS-320\\\\Week02\\\\homework\\\\apacheLog.py'>"
      ]
     },
     "execution_count": 291,
     "metadata": {},
     "output_type": "execute_result"
    }
   ],
   "source": [
    "import apacheLog, yaml\n",
    "import importlib\n",
    "importlib.reload(apacheLog)"
   ]
  },
  {
   "cell_type": "markdown",
   "metadata": {},
   "source": [
    "APACHE QQ EXE"
   ]
  },
  {
   "cell_type": "code",
   "execution_count": 292,
   "metadata": {},
   "outputs": [
    {
     "name": "stdout",
     "output_type": "stream",
     "text": [
      "QQ.exe showxml.qq.com:80 600 1716\n",
      "QQ.exe qqmail.tencent.com:80 336 2854\n",
      "QQ.exe tcpconn.tencent.com:80 133 0\n",
      "QQ.exe tcpconn6.tencent.com:443 0 0\n",
      "QQ.exe cgi.qqweb.qq.com:80 477 448\n",
      "QQ.exe tcpconn6.tencent.com:80 0 0\n",
      "QQ.exe tcpconn3.tencent.com:80 0 0\n",
      "QQ.exe 2052.flash2-http.qq.com:80 466 125682\n",
      "QQ.exe tcpconn3.tencent.com:443 149 121\n",
      "QQProtectUpd.exe qdun-data.qq.com:443 261 70\n"
     ]
    }
   ],
   "source": [
    "apacheLog.apache_events('../../logs/Proxifier_2k.log','apache','exe_file')"
   ]
  },
  {
   "cell_type": "markdown",
   "metadata": {},
   "source": [
    "EXPORT INTO YAML FILE"
   ]
  },
  {
   "cell_type": "code",
   "execution_count": 293,
   "metadata": {},
   "outputs": [],
   "source": [
    "apacheLog.apache_export('../../logs/Proxifier_2k.log','apache','exe_proxy_open','proxy_events.yaml')\n"
   ]
  },
  {
   "cell_type": "markdown",
   "metadata": {},
   "source": [
    "READ YAML FILE"
   ]
  },
  {
   "cell_type": "code",
   "execution_count": 294,
   "metadata": {},
   "outputs": [
    {
     "name": "stdout",
     "output_type": "stream",
     "text": [
      "['QQ.exe tcpconn3.tencent.com:443 through HTTPS', 'QQ.exe tcpconn6.tencent.com:443 through HTTPS', 'QQ.exe tcpconn.tencent.com:80 through HTTPS', 'QQPlayer.exe btrace.qq.com:80 through HTTPS', 'QQ.exe cgi.qqweb.qq.com:80 through HTTPS', 'QQ.exe tcpconn6.tencent.com:80 through HTTPS', 'QQProtectUpd.exe qdun-data.qq.com:443 through HTTPS', 'QQ.exe 183.60.49.182:443 through HTTPS']\n"
     ]
    }
   ],
   "source": [
    "with open('proxy_events.yaml', 'r') as file:\n",
    "     output = yaml.safe_load(file)\n",
    "print(output)"
   ]
  }
 ],
 "metadata": {
  "interpreter": {
   "hash": "2171bc6b00ba1d2ce2dc1800dd7211e2c1c28477b82eb67c1108ac13b267c2a7"
  },
  "kernelspec": {
   "display_name": "Python 3.10.2 64-bit",
   "language": "python",
   "name": "python3"
  },
  "language_info": {
   "codemirror_mode": {
    "name": "ipython",
    "version": 3
   },
   "file_extension": ".py",
   "mimetype": "text/x-python",
   "name": "python",
   "nbconvert_exporter": "python",
   "pygments_lexer": "ipython3",
   "version": "3.10.2"
  },
  "orig_nbformat": 4
 },
 "nbformat": 4,
 "nbformat_minor": 2
}
